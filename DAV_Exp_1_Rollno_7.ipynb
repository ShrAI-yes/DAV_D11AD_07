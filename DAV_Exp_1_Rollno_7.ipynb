{
  "nbformat": 4,
  "nbformat_minor": 0,
  "metadata": {
    "colab": {
      "provenance": [],
      "gpuType": "T4",
      "toc_visible": true
    },
    "kernelspec": {
      "name": "ir",
      "display_name": "R"
    },
    "language_info": {
      "name": "R"
    },
    "accelerator": "GPU"
  },
  "cells": [
    {
      "cell_type": "markdown",
      "source": [
        "## **Title: Getting introduced to data analytics libraries in Python and R**\n",
        "\n",
        "Lab Objectives: To effectively use libraries for data analytics.\n",
        "\n",
        "Lab Outcomes (LO): Explore various data analytics Libraries in R and Python. (LO1)"
      ],
      "metadata": {
        "id": "oyu8KvJeP16f"
      }
    },
    {
      "cell_type": "markdown",
      "source": [
        "## **Python Libraries**\n",
        "\n"
      ],
      "metadata": {
        "id": "1YFvCQ1zQ9K2"
      }
    },
    {
      "cell_type": "markdown",
      "source": [
        "**PyTorch-** PyTorch is an open-source machine learning library for Python that is widely used for developing and training deep learning models.\n",
        "\n",
        "PyTorch provides two main features:\n",
        ">  An n-dimensional Tensor, similar to numpy but can run on GPUs.\n",
        "> Automatic differentiation for building and training neural networks\n",
        "\n",
        " PyTorch has gained popularity for its dynamic computational graph, which allows for more flexibility and ease of debugging compared to static graph frameworks. One of its notable features is the ability to perform dynamic computation during runtime, making it well-suited for tasks like natural language processing, computer vision, and other deep learning applications."
      ],
      "metadata": {
        "id": "BGOXM7ljRkDU"
      }
    },
    {
      "cell_type": "markdown",
      "source": [
        "**Scrapy-** Scrapy is an open-source Python framework whose goal is to make web scraping easier. You can build robust and scalable spiders with its comprehensive set of built-in features like:-\n",
        "> HTTP connections.\n",
        "\n",
        "> Support for CSS Selectors and XPath expressions.\n",
        "\n",
        "> Cookie and session management.\n",
        "\n",
        "> Support for automated retries.\n",
        "\n",
        "> Concurrency management.\n",
        "\n",
        "> Built-in crawling capabilities.\n",
        "\n",
        "> JavaScript rendering with Splash."
      ],
      "metadata": {
        "id": "_7WH0XJ3Tho9"
      }
    },
    {
      "cell_type": "markdown",
      "source": [
        "**Tensorflow-** TensorFlow is an open-source, end-to-end  machine learning library. It provides a comprehensive set of tools and resources for various machine learning tasks, including neural networks, natural language processing, and computer vision.\n",
        "\n",
        "It supports the following:\n",
        "> Multidimensional-array based numeric computation\n",
        "\n",
        "> GPU and distributed processing\n",
        "\n",
        "> Automatic differentiation\n",
        "\n",
        "> Model construction, training, and export"
      ],
      "metadata": {
        "id": "tPz-OzHbU0Xd"
      }
    },
    {
      "cell_type": "markdown",
      "source": [
        "**Keras-** Keras is an open-source high-level neural networks API written in Python. It is a user-friendly and efficient tool for building deep learning models.TensorFlow adopted Keras as its official high-level API, and Keras is now tightly integrated into the TensorFlow core library."
      ],
      "metadata": {
        "id": "H7Ot4KuDYBVO"
      }
    },
    {
      "cell_type": "markdown",
      "source": [
        "**PyBrain-** Pybrain is an open-source, modular library for machine learning implemented using python.\n",
        "\n",
        "The following are the features of Pybrain:-\n",
        "> Pybrain supports neural networks like Feed-Forward Network, Recurrent Network, etc.\n",
        "\n",
        "> Pybrain supports various datasets to test, validate and train on networks.\n",
        "\n",
        "> Pybrain trains its network based on the training data given to it using trainers like BackpropTrainer and TrainUntilConvergence\n",
        "\n",
        "> Pybrain can work with other frameworks like Mathplotlib, pyplot to visualize the data."
      ],
      "metadata": {
        "id": "WRg9SoHPaUin"
      }
    },
    {
      "cell_type": "markdown",
      "source": [
        "## **R Libraries**"
      ],
      "metadata": {
        "id": "FXi4TH1ujXEY"
      }
    },
    {
      "cell_type": "markdown",
      "source": [
        "**tidyr**- The goal of tidyr is to help you create tidy data. Tidy data is data where:\n",
        "\n",
        "1)Every column is a variable.\n",
        "\n",
        "2)Every row is an observation.\n",
        "\n",
        "3)Every cell is a single value.\n",
        "\n",
        "Tidy data describes a standard way of storing data that is used wherever possible throughout the tidyverse. If you ensure that your data is tidy, you’ll spend less time fighting with the tools and more time working on your analysis."
      ],
      "metadata": {
        "id": "XzFr0MDRjixp"
      }
    },
    {
      "cell_type": "markdown",
      "source": [
        "**dyplr-** The dplyr is a powerful R-package to manipulate, clean and summarize unstructured data. It makes data exploration and data manipulation easy and fast in R. The package \"dplyr\" comprises many functions that perform mostly used data manipulation operations such as applying filter, selecting specific columns, sorting data, adding or deleting columns and aggregating data.\n"
      ],
      "metadata": {
        "id": "osEht2Ngj4RD"
      }
    },
    {
      "cell_type": "markdown",
      "source": [
        "**readr-** The goal of readr is to provide a fast and friendly way to read rectangular data from delimited files, such as comma-separated values (CSV) and tab-separated values (TSV). It is designed to parse many types of data found in the wild, while providing an informative problem report when parsing leads to unexpected results."
      ],
      "metadata": {
        "id": "x2zLK0gzkc3K"
      }
    },
    {
      "cell_type": "markdown",
      "source": [
        "**stringr-** The vast majority of stringr functions work with patterns. These are parameterised by the task they perform and the types of patterns they match.Functions in stringr:\n",
        "\n",
        "\n",
        "> Character manipulation functions allow you to manipulate individual characters within the strings in character vectors\n",
        "\n",
        "> Whitespace tools to add, remove, and manipulate whitespace.\n",
        "\n",
        "> Locale sensitive operations whose operations will vary from locale to locale.\n",
        "\n",
        "> Pattern matching functions recognise four engines of pattern description.\n",
        "\n",
        "\n",
        "\n"
      ],
      "metadata": {
        "id": "kdhDoU8d6wuJ"
      }
    },
    {
      "cell_type": "markdown",
      "source": [
        "**jsonlite-** The jsonlite package is a JSON parser/generator optimized for the web. Its main strength is that it implements a bidirectional mapping between JSON data and the most important R data types. Thereby we can convert between R objects and JSON without loss of type or information, and without the need for any manual data munging. This is ideal for interacting with web APIs, or to build pipelines where data structures seamlessly flow in and out of R using JSON."
      ],
      "metadata": {
        "id": "UEyMODIr9ESK"
      }
    },
    {
      "cell_type": "markdown",
      "source": [
        "## **Code(Python):**"
      ],
      "metadata": {
        "id": "ruOFCqpddDqo"
      }
    },
    {
      "cell_type": "code",
      "source": [
        "!pip install numpy\n",
        "!pip install scikit-learn"
      ],
      "metadata": {
        "colab": {
          "base_uri": "https://localhost:8080/"
        },
        "id": "Ey9cpuStRK0e",
        "outputId": "6cd220db-f9a2-4e70-fdb3-252d7e655729"
      },
      "execution_count": null,
      "outputs": [
        {
          "output_type": "stream",
          "name": "stdout",
          "text": [
            "Requirement already satisfied: numpy in /usr/local/lib/python3.10/dist-packages (1.23.5)\n",
            "Requirement already satisfied: scikit-learn in /usr/local/lib/python3.10/dist-packages (1.2.2)\n",
            "Requirement already satisfied: numpy>=1.17.3 in /usr/local/lib/python3.10/dist-packages (from scikit-learn) (1.23.5)\n",
            "Requirement already satisfied: scipy>=1.3.2 in /usr/local/lib/python3.10/dist-packages (from scikit-learn) (1.11.4)\n",
            "Requirement already satisfied: joblib>=1.1.1 in /usr/local/lib/python3.10/dist-packages (from scikit-learn) (1.3.2)\n",
            "Requirement already satisfied: threadpoolctl>=2.0.0 in /usr/local/lib/python3.10/dist-packages (from scikit-learn) (3.2.0)\n"
          ]
        }
      ]
    },
    {
      "cell_type": "code",
      "source": [
        "import pandas as pd\n",
        "import sklearn.datasets as DATA"
      ],
      "metadata": {
        "id": "FI_LZMFndvVY"
      },
      "execution_count": null,
      "outputs": []
    },
    {
      "cell_type": "code",
      "source": [
        "data = DATA.load_iris()\n",
        "df = pd.DataFrame(data.data,columns=data.feature_names)"
      ],
      "metadata": {
        "colab": {
          "base_uri": "https://localhost:8080/"
        },
        "id": "eyBi72Q3eNA4",
        "outputId": "c37ec227-5c50-4ec7-dca4-ee634cb11384"
      },
      "execution_count": null,
      "outputs": [
        {
          "output_type": "stream",
          "name": "stdout",
          "text": [
            "     sepal length (cm)  sepal width (cm)  petal length (cm)  petal width (cm)\n",
            "30                 4.8               3.1                1.6               0.2\n",
            "20                 5.4               3.4                1.7               0.2\n",
            "129                7.2               3.0                5.8               1.6\n",
            "42                 4.4               3.2                1.3               0.2\n",
            "27                 5.2               3.5                1.5               0.2\n",
            "34                 4.9               3.1                1.5               0.2\n",
            "44                 5.1               3.8                1.9               0.4\n",
            "13                 4.3               3.0                1.1               0.1\n",
            "54                 6.5               2.8                4.6               1.5\n",
            "70                 5.9               3.2                4.8               1.8\n"
          ]
        }
      ]
    },
    {
      "cell_type": "markdown",
      "source": [
        "### **Output**"
      ],
      "metadata": {
        "id": "fR_qePdigzMv"
      }
    },
    {
      "cell_type": "code",
      "source": [
        "print(df.sample(n=10))"
      ],
      "metadata": {
        "colab": {
          "base_uri": "https://localhost:8080/"
        },
        "id": "gyeyihuigy2P",
        "outputId": "58695a16-266d-41cd-dc3f-7d741de0ee85"
      },
      "execution_count": null,
      "outputs": [
        {
          "output_type": "stream",
          "name": "stdout",
          "text": [
            "     sepal length (cm)  sepal width (cm)  petal length (cm)  petal width (cm)\n",
            "44                 5.1               3.8                1.9               0.4\n",
            "49                 5.0               3.3                1.4               0.2\n",
            "77                 6.7               3.0                5.0               1.7\n",
            "118                7.7               2.6                6.9               2.3\n",
            "120                6.9               3.2                5.7               2.3\n",
            "68                 6.2               2.2                4.5               1.5\n",
            "83                 6.0               2.7                5.1               1.6\n",
            "72                 6.3               2.5                4.9               1.5\n",
            "26                 5.0               3.4                1.6               0.4\n",
            "6                  4.6               3.4                1.4               0.3\n"
          ]
        }
      ]
    },
    {
      "cell_type": "markdown",
      "source": [
        "## **Code(R)**"
      ],
      "metadata": {
        "id": "AH1Heh7C9vya"
      }
    },
    {
      "cell_type": "code",
      "source": [
        "install.packages (\"tidyverse\")\n"
      ],
      "metadata": {
        "colab": {
          "base_uri": "https://localhost:8080/"
        },
        "id": "KW7V7nbZ94AZ",
        "outputId": "c6203686-b48f-49ca-cd4d-3a41e13fd07c"
      },
      "execution_count": null,
      "outputs": [
        {
          "output_type": "stream",
          "name": "stderr",
          "text": [
            "Installing package into ‘/usr/local/lib/R/site-library’\n",
            "(as ‘lib’ is unspecified)\n",
            "\n"
          ]
        }
      ]
    },
    {
      "cell_type": "code",
      "source": [
        "library(dplyr)\n",
        "library(tidyr)\n",
        "\n",
        "library(tidyr)\n",
        "n = 10\n",
        "tidy_dataframe = data.frame(\n",
        "                      S.No = c(1:n),\n",
        "                    Group.1 = c(23, 345, 76, 212, 88,\n",
        "                                199, 72, 35, 90, 265),\n",
        "                    Group.2 = c(117, 89, 66, 334, 90,\n",
        "                               101, 178, 233, 45, 200),\n",
        "                    Group.3 = c(29, 101, 239, 289, 176,\n",
        "                                320, 89, 109, 199, 56))"
      ],
      "metadata": {
        "id": "QJGdt3bc-ZXM"
      },
      "execution_count": null,
      "outputs": []
    },
    {
      "cell_type": "code",
      "source": [
        "d <- data.frame(name = c(\"Abhi\", \"Bhavesh\", \"Chaman\", \"Dimri\"),\n",
        "\t\t\t\tage = c(7, 5, 9, 16),\n",
        "\t\t\t\tht = c(46, NA, NA, 69),\n",
        "\t\t\t\tschool = c(\"yes\", \"yes\", \"no\", \"no\"))\n",
        "\n",
        "\n"
      ],
      "metadata": {
        "id": "0MLmdsYh_A4y"
      },
      "execution_count": null,
      "outputs": []
    },
    {
      "cell_type": "markdown",
      "source": [
        "### **Output:**"
      ],
      "metadata": {
        "id": "nvAlxD-Z_l97"
      }
    },
    {
      "cell_type": "code",
      "source": [
        "print(tidy_dataframe)\n",
        "\n",
        "print(d)\n",
        "rows_with_na <- d %>% filter(is.na(ht))\n",
        "\n",
        "print(rows_with_na)\n",
        "\n",
        "rows_without_na <- d %>% filter(!is.na(ht))\n",
        "print(rows_without_na)"
      ],
      "metadata": {
        "colab": {
          "base_uri": "https://localhost:8080/"
        },
        "id": "d_WTJ3rh_rfb",
        "outputId": "c7e90c6a-b9d8-410e-8702-de7efae5b393"
      },
      "execution_count": null,
      "outputs": [
        {
          "output_type": "stream",
          "name": "stdout",
          "text": [
            "   S.No Group.1 Group.2 Group.3\n",
            "1     1      23     117      29\n",
            "2     2     345      89     101\n",
            "3     3      76      66     239\n",
            "4     4     212     334     289\n",
            "5     5      88      90     176\n",
            "6     6     199     101     320\n",
            "7     7      72     178      89\n",
            "8     8      35     233     109\n",
            "9     9      90      45     199\n",
            "10   10     265     200      56\n",
            "     name age ht school\n",
            "1    Abhi   7 46    yes\n",
            "2 Bhavesh   5 NA    yes\n",
            "3  Chaman   9 NA     no\n",
            "4   Dimri  16 69     no\n",
            "     name age ht school\n",
            "1 Bhavesh   5 NA    yes\n",
            "2  Chaman   9 NA     no\n",
            "   name age ht school\n",
            "1  Abhi   7 46    yes\n",
            "2 Dimri  16 69     no\n"
          ]
        }
      ]
    },
    {
      "cell_type": "markdown",
      "source": [
        "## **Conclusion**"
      ],
      "metadata": {
        "id": "fBtCWIs6ASgq"
      }
    },
    {
      "cell_type": "markdown",
      "source": [
        "We have learned about fundamental data visualization and analytics libraries in both R and Python to gain insights into the capabilities and user-friendliness of these tools."
      ],
      "metadata": {
        "id": "hIEukMhmA8IK"
      }
    }
  ]
}