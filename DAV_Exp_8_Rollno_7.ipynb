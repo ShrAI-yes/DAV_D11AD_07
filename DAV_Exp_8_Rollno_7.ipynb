{
  "nbformat": 4,
  "nbformat_minor": 0,
  "metadata": {
    "colab": {
      "provenance": []
    },
    "kernelspec": {
      "name": "python3",
      "display_name": "Python 3"
    },
    "language_info": {
      "name": "python"
    }
  },
  "cells": [
    {
      "cell_type": "markdown",
      "source": [
        "## D3 Environment"
      ],
      "metadata": {
        "id": "jgQu_qtP2fxc"
      }
    },
    {
      "cell_type": "code",
      "source": [
        "%%html\n",
        "\n",
        "<!DOCTYPE html>\n",
        "<html lang=\"en\">\n",
        "<head>\n",
        "    <meta charset=\"UTF-8\">\n",
        "    <title>D3.js Environment</title>\n",
        "    <script src=\"https://d3js.org/d3.v7.min.js\"></script>\n",
        "    <style>\n",
        "        .header-nav {\n",
        "            background-color: #333;\n",
        "            color: #fff;\n",
        "            text-align: center;\n",
        "            padding: 10px;\n",
        "        }\n",
        "        .main-content {\n",
        "            padding: 20px;\n",
        "        }\n",
        "    </style>\n",
        "</head>\n",
        "\n",
        "<body>\n",
        "    <div class=\"header-nav\">\n",
        "        <header>\n",
        "            <h1>Simple D3.js Example</h1>\n",
        "        </header>\n",
        "        <nav>\n",
        "            <ul>\n",
        "                <li> D3 stands for Data-Driven Documents.</li>\n",
        "                <li> D3.js is a JavaScript library for manipulating documents based on data.</li>\n",
        "                <li> D3.js is a dynamic, interactive, online data visualizations framework used in a large number of websites.</li>\n",
        "                <li> D3.js is a JavaScript library used to create interactive visualizations in the browser.</li>\n",
        "            </ul>\n",
        "        </nav>\n",
        "    </div>\n",
        "    <div class=\"main-content\">\n",
        "        <section class=\"main-content\">\n",
        "        <h2>Learning New Things in D3!</h2>\n",
        "         Hello Data <br>\n",
        "               Driven <br>\n",
        "               Document\n",
        "        </section>\n",
        "    </div>\n",
        "    <div class=\"header-nav\">\n",
        "        <footer class=\"header-nav\">\n",
        "        <p>Lets Have FUN!!</p>\n",
        "    </footer>\n",
        "    </div>\n",
        "</body>\n",
        "</html>"
      ],
      "metadata": {
        "colab": {
          "base_uri": "https://localhost:8080/",
          "height": 421
        },
        "id": "hu9URyDII1Md",
        "outputId": "aa89352f-001b-4809-a2fa-e408f7a06dea"
      },
      "execution_count": null,
      "outputs": [
        {
          "output_type": "display_data",
          "data": {
            "text/plain": [
              "<IPython.core.display.HTML object>"
            ],
            "text/html": [
              "\n",
              "<!DOCTYPE html>\n",
              "<html lang=\"en\">\n",
              "<head>\n",
              "    <meta charset=\"UTF-8\">\n",
              "    <title>D3.js Environment</title>\n",
              "    <script src=\"https://d3js.org/d3.v7.min.js\"></script>\n",
              "    <style>\n",
              "        .header-nav {\n",
              "            background-color: #333;\n",
              "            color: #fff;\n",
              "            text-align: center;\n",
              "            padding: 10px;\n",
              "        }\n",
              "        .main-content {\n",
              "            padding: 20px;\n",
              "        }\n",
              "    </style>\n",
              "</head>\n",
              "\n",
              "<body>\n",
              "    <div class=\"header-nav\">\n",
              "        <header>\n",
              "            <h1>Simple D3.js Example</h1>\n",
              "        </header>\n",
              "        <nav>\n",
              "            <ul>\n",
              "                <li> D3 stands for Data-Driven Documents.</li>\n",
              "                <li> D3.js is a JavaScript library for manipulating documents based on data.</li>\n",
              "                <li> D3.js is a dynamic, interactive, online data visualizations framework used in a large number of websites.</li>\n",
              "                <li> D3.js is a JavaScript library used to create interactive visualizations in the browser.</li>\n",
              "            </ul>\n",
              "        </nav>\n",
              "    </div>\n",
              "    <div class=\"main-content\">\n",
              "        <section class=\"main-content\">\n",
              "        <h2>Learning New Things in D3!</h2>\n",
              "         Hello Data <br>\n",
              "               Driven <br>\n",
              "               Document\n",
              "        </section>\n",
              "    </div>\n",
              "    <div class=\"header-nav\">\n",
              "        <footer class=\"header-nav\">\n",
              "        <p>Lets Have FUN!!</p>\n",
              "    </footer>\n",
              "    </div>\n",
              "</body>\n",
              "</html>\n"
            ]
          },
          "metadata": {}
        }
      ]
    },
    {
      "cell_type": "markdown",
      "source": [
        "## Selecting Elements (and Styling)"
      ],
      "metadata": {
        "id": "Dl2c_Zac3Y77"
      }
    },
    {
      "cell_type": "code",
      "source": [
        "%%html\n",
        "\n",
        "<!DOCTYPE html>\n",
        "<html lang=\"en\">\n",
        "<head>\n",
        "    <meta charset=\"UTF-8\">\n",
        "    <title>D3.js Environment</title>\n",
        "    <script src=\"https://d3js.org/d3.v7.min.js\"></script>\n",
        "    <style>\n",
        "        .header-nav {\n",
        "            background-color: #333;\n",
        "            color: #fff;\n",
        "            text-align: center;\n",
        "            padding: 10px;\n",
        "        }\n",
        "        .main-content {\n",
        "            padding: 20px;\n",
        "        }\n",
        "        /* Add additional CSS styles if needed */\n",
        "    </style>\n",
        "</head>\n",
        "\n",
        "<body>\n",
        "    <div class=\"header-nav\">\n",
        "        <header>\n",
        "            <h1>Simple D3.js Example</h1>\n",
        "        </header>\n",
        "        <nav>\n",
        "            <ul>\n",
        "                <li> D3 stands for Data-Driven Documents.</li>\n",
        "                <li> D3.js is a JavaScript library for manipulating documents based on data.</li>\n",
        "                <li> D3.js is a dynamic, interactive, online data visualizations framework used in a large number of websites.</li>\n",
        "                <li> D3.js is a JavaScript library used to create interactive visualizations in the browser.</li>\n",
        "            </ul>\n",
        "        </nav>\n",
        "    </div>\n",
        "    <div class=\"main-content\">\n",
        "        <section class=\"main-content\">\n",
        "            <h2>Learning New Things in D3!</h2>\n",
        "             Hello Data <br>\n",
        "                   Driven <br>\n",
        "                   Document\n",
        "        </section>\n",
        "    </div>\n",
        "    <div class=\"header-nav\">\n",
        "        <footer class=\"header-nav\">\n",
        "            <p>Lets Have FUN!!</p>\n",
        "        </footer>\n",
        "    </div>\n",
        "\n",
        "    <script>\n",
        "        d3.select(\"h1\").style(\"color\", \"blue\");\n",
        "        d3.selectAll(\"li\").style(\"font-size\", \"18px\");\n",
        "        d3.select(\"footer\").style(\"background-color\", \"lime\")\n",
        "        d3.select(\"section\")\n",
        "            .style(\"width\", \"200px\")\n",
        "            .style(\"height\", \"200px\")\n",
        "            .style(\"background-color\", \"green\")\n",
        "            .style(\"color\", \"white\")\n",
        "            .style(\"text-align\", \"center\")\n",
        "            .text(\"Hello, D3.js!\");\n",
        "    </script>\n",
        "</body>\n",
        "</html>\n"
      ],
      "metadata": {
        "colab": {
          "base_uri": "https://localhost:8080/",
          "height": 541
        },
        "id": "4V4es_1i3nHD",
        "outputId": "53a72924-b361-4374-a9f2-59137fadebe5"
      },
      "execution_count": null,
      "outputs": [
        {
          "output_type": "display_data",
          "data": {
            "text/plain": [
              "<IPython.core.display.HTML object>"
            ],
            "text/html": [
              "\n",
              "<!DOCTYPE html>\n",
              "<html lang=\"en\">\n",
              "<head>\n",
              "    <meta charset=\"UTF-8\">\n",
              "    <title>D3.js Environment</title>\n",
              "    <script src=\"https://d3js.org/d3.v7.min.js\"></script>\n",
              "    <style>\n",
              "        .header-nav {\n",
              "            background-color: #333;\n",
              "            color: #fff;\n",
              "            text-align: center;\n",
              "            padding: 10px;\n",
              "        }\n",
              "        .main-content {\n",
              "            padding: 20px;\n",
              "        }\n",
              "        /* Add additional CSS styles if needed */\n",
              "    </style>\n",
              "</head>\n",
              "\n",
              "<body>\n",
              "    <div class=\"header-nav\">\n",
              "        <header>\n",
              "            <h1>Simple D3.js Example</h1>\n",
              "        </header>\n",
              "        <nav>\n",
              "            <ul>\n",
              "                <li> D3 stands for Data-Driven Documents.</li>\n",
              "                <li> D3.js is a JavaScript library for manipulating documents based on data.</li>\n",
              "                <li> D3.js is a dynamic, interactive, online data visualizations framework used in a large number of websites.</li>\n",
              "                <li> D3.js is a JavaScript library used to create interactive visualizations in the browser.</li>\n",
              "            </ul>\n",
              "        </nav>\n",
              "    </div>\n",
              "    <div class=\"main-content\">\n",
              "        <section class=\"main-content\">\n",
              "            <h2>Learning New Things in D3!</h2>\n",
              "             Hello Data <br>\n",
              "                   Driven <br>\n",
              "                   Document\n",
              "        </section>\n",
              "    </div>\n",
              "    <div class=\"header-nav\">\n",
              "        <footer class=\"header-nav\">\n",
              "            <p>Lets Have FUN!!</p>\n",
              "        </footer>\n",
              "    </div>\n",
              "\n",
              "    <script>\n",
              "        d3.select(\"h1\").style(\"color\", \"blue\");\n",
              "        d3.selectAll(\"li\").style(\"font-size\", \"18px\");\n",
              "        d3.select(\"footer\").style(\"background-color\", \"lime\")\n",
              "        d3.select(\"section\")\n",
              "            .style(\"width\", \"200px\")\n",
              "            .style(\"height\", \"200px\")\n",
              "            .style(\"background-color\", \"green\")\n",
              "            .style(\"color\", \"white\")\n",
              "            .style(\"text-align\", \"center\")\n",
              "            .text(\"Hello, D3.js!\");\n",
              "    </script>\n",
              "</body>\n",
              "</html>\n"
            ]
          },
          "metadata": {}
        }
      ]
    },
    {
      "cell_type": "code",
      "source": [
        "%%html\n",
        "\n",
        "<!DOCTYPE html>\n",
        "<html lang=\"en\">\n",
        "<head>\n",
        "    <meta charset=\"UTF-8\">\n",
        "    <title>D3.js Environment</title>\n",
        "    <script src=\"https://d3js.org/d3.v7.min.js\"></script>\n",
        "    <style>\n",
        "        .header-nav {\n",
        "            background-color: #333;\n",
        "            color: #fff;\n",
        "            text-align: center;\n",
        "            padding: 10px;\n",
        "        }\n",
        "        .main-content {\n",
        "            padding: 20px;\n",
        "        }\n",
        "    </style>\n",
        "</head>\n",
        "\n",
        "<body>\n",
        "    <div class=\"header-nav\">\n",
        "        <header>\n",
        "            <h1>Simple D3.js Example</h1>\n",
        "        </header>\n",
        "        <nav>\n",
        "            <ul>\n",
        "                <li> D3 stands for Data-Driven Documents.</li>\n",
        "                <li> D3.js is a JavaScript library for manipulating documents based on data.</li>\n",
        "                <li> D3.js is a dynamic, interactive, online data visualizations framework used in a large number of websites.</li>\n",
        "                <li> D3.js is a JavaScript library used to create interactive visualizations in the browser.</li>\n",
        "            </ul>\n",
        "        </nav>\n",
        "    </div>\n",
        "    <div class=\"main-content\">\n",
        "        <section class=\"main-content\">\n",
        "            <h2>Learning New Things in D3!</h2>\n",
        "             Hello Data <br>\n",
        "                   Driven <br>\n",
        "                   Document\n",
        "        </section>\n",
        "    </div>\n",
        "    <div class=\"header-nav\">\n",
        "        <footer class=\"footer-content\">\n",
        "            <p>Lets Have FUN!!</p>\n",
        "        </footer>\n",
        "    </div>\n",
        "\n",
        "    <script>\n",
        "        d3.selectAll(\".header-nav\").style(\"background-color\", \"orange\")\n",
        "                    .style(\"color\", \"white\");\n",
        "        d3.selectAll(\".main-content\").style(\"background-color\", \"blue\");\n",
        "        d3.selectAll(\".footer-content\").style(\"background-color\", \"lime\")\n",
        "                    .style(\"color\", \"white\").style(\"padding\", \"10px\");\n",
        "    </script>\n",
        "</body>\n",
        "</html>\n"
      ],
      "metadata": {
        "colab": {
          "base_uri": "https://localhost:8080/",
          "height": 421
        },
        "id": "dwLo8T1DOu5Z",
        "outputId": "1d594d25-2b20-4d2f-bcb4-82400e549124"
      },
      "execution_count": null,
      "outputs": [
        {
          "output_type": "display_data",
          "data": {
            "text/plain": [
              "<IPython.core.display.HTML object>"
            ],
            "text/html": [
              "\n",
              "<!DOCTYPE html>\n",
              "<html lang=\"en\">\n",
              "<head>\n",
              "    <meta charset=\"UTF-8\">\n",
              "    <title>D3.js Environment</title>\n",
              "    <script src=\"https://d3js.org/d3.v7.min.js\"></script>\n",
              "    <style>\n",
              "        .header-nav {\n",
              "            background-color: #333;\n",
              "            color: #fff;\n",
              "            text-align: center;\n",
              "            padding: 10px;\n",
              "        }\n",
              "        .main-content {\n",
              "            padding: 20px;\n",
              "        }\n",
              "    </style>\n",
              "</head>\n",
              "\n",
              "<body>\n",
              "    <div class=\"header-nav\">\n",
              "        <header>\n",
              "            <h1>Simple D3.js Example</h1>\n",
              "        </header>\n",
              "        <nav>\n",
              "            <ul>\n",
              "                <li> D3 stands for Data-Driven Documents.</li>\n",
              "                <li> D3.js is a JavaScript library for manipulating documents based on data.</li>\n",
              "                <li> D3.js is a dynamic, interactive, online data visualizations framework used in a large number of websites.</li>\n",
              "                <li> D3.js is a JavaScript library used to create interactive visualizations in the browser.</li>\n",
              "            </ul>\n",
              "        </nav>\n",
              "    </div>\n",
              "    <div class=\"main-content\">\n",
              "        <section class=\"main-content\">\n",
              "            <h2>Learning New Things in D3!</h2>\n",
              "             Hello Data <br>\n",
              "                   Driven <br>\n",
              "                   Document\n",
              "        </section>\n",
              "    </div>\n",
              "    <div class=\"header-nav\">\n",
              "        <footer class=\"footer-content\">\n",
              "            <p>Lets Have FUN!!</p>\n",
              "        </footer>\n",
              "    </div>\n",
              "\n",
              "    <script>\n",
              "        d3.selectAll(\".header-nav\").style(\"background-color\", \"orange\")\n",
              "                    .style(\"color\", \"white\");\n",
              "        d3.selectAll(\".main-content\").style(\"background-color\", \"blue\");\n",
              "        d3.selectAll(\".footer-content\").style(\"background-color\", \"lime\")\n",
              "                    .style(\"color\", \"white\").style(\"padding\", \"10px\");\n",
              "    </script>\n",
              "</body>\n",
              "</html>\n"
            ]
          },
          "metadata": {}
        }
      ]
    },
    {
      "cell_type": "markdown",
      "source": [
        "## Modifying Elements"
      ],
      "metadata": {
        "id": "JRyDP5Ul5N2d"
      }
    },
    {
      "cell_type": "markdown",
      "source": [
        "## **SVG**"
      ],
      "metadata": {
        "id": "uqO3mt5ag6c8"
      }
    },
    {
      "cell_type": "markdown",
      "source": [
        "SVG stands for Scalable Vector Graphics. SVG is an XML-based vector graphics format. It provides options to draw different shapes such as Lines, Rectangles, Circles, Ellipses, etc. Hence, designing visualizations with SVG gives you more power and flexibility.\n",
        "\n",
        "**Features of SVG:**\n",
        "*   SVG is a vector based image format and it is text-based.\n",
        "*   SVG is similar in structure to HTML.\n",
        "*   SVG can be represented as a Document object model.\n",
        "*   SVG properties can be specified as attributes.\n",
        "*   SVG should have absolute positions relative to the origin (0, 0).\n",
        "*   SVG can be included as is in the HTML document.\n",
        "\n",
        "\n",
        "\n",
        "Step 1 − Create a SVG image and set width as 300 pixel and height as 300 pixel.\n",
        "\n",
        "Step 2 − Create a line starting at 100, 100 and ending at 200, 100 and set red color for the line.\n",
        "\n",
        "Step 3 − Create a HTML document, “svg_line.html” and integrate the above SVG"
      ],
      "metadata": {
        "id": "oPPAAFeRZk0n"
      }
    },
    {
      "cell_type": "code",
      "source": [
        "%%html\n",
        "\n",
        "<!DOCTYPE html>\n",
        "<html lang=\"en\">\n",
        "<head>\n",
        "    <meta charset=\"UTF-8\">\n",
        "    <meta name=\"viewport\" content=\"width=device-width, initial-scale=1.0\">\n",
        "    <title>SVG Shapes</title>\n",
        "    <script src=\"https://d3js.org/d3.v7.min.js\"></script>\n",
        "    <style>\n",
        "        svg {\n",
        "            width: 500px;\n",
        "            height: 300px;\n",
        "            border: 1px solid #ccc;\n",
        "        }\n",
        "        #circle {\n",
        "            fill: yellow;\n",
        "        }\n",
        "        #rectangle {\n",
        "            fill: lightblue;\n",
        "        }\n",
        "        #triangle {\n",
        "            fill: lightgreen;\n",
        "        }\n",
        "        .circle-text {\n",
        "            fill: black;\n",
        "            font-family: Arial, sans-serif;\n",
        "            font-size: 16px;\n",
        "            font-weight: bold;\n",
        "        }\n",
        "        .rectangle-text {\n",
        "            fill: black;\n",
        "            font-family: Arial, sans-serif;\n",
        "            font-size: 16px;\n",
        "            font-weight: bold;\n",
        "        }\n",
        "        .triangle-text {\n",
        "            fill: black;\n",
        "            font-family: Arial, sans-serif;\n",
        "            font-size: 16px;\n",
        "            font-weight: bold;\n",
        "        }\n",
        "    </style>\n",
        "</head>\n",
        "<body>\n",
        "    <h2>Modifying SVG in D3</h2>\n",
        "    <svg viewBox=\"0 0 500 300\">\n",
        "        <circle id=\"circle\" cx=\"80\" cy=\"100\" r=\"60\" />\n",
        "        <text class=\"circle-text\" x=\"80\" y=\"100\" text-anchor=\"middle\" dominant-baseline=\"central\">Circle</text>\n",
        "\n",
        "        <rect id=\"rectangle\" x=\"200\" y=\"50\" width=\"120\" height=\"120\" />\n",
        "        <text class=\"rectangle-text\" x=\"260\" y=\"110\" text-anchor=\"middle\" dominant-baseline=\"central\">Rectangle</text>\n",
        "\n",
        "        <polygon id=\"triangle\" points=\"380,50 440,200 300,200\" />\n",
        "        <text class=\"triangle-text\" x=\"360\" y=\"130\" text-anchor=\"middle\" dominant-baseline=\"central\">Triangle</text>\n",
        "    </svg>\n",
        "\n",
        "    <script>\n",
        "        d3.select(\"#circle\").style(\"fill\", \"orange\").attr(\"r\", 80);\n",
        "        d3.select(\".circle-text\").style(\"fill\", \"black\").style(\"font-size\", \"20px\");\n",
        "\n",
        "        d3.select(\"#rectangle\").style(\"fill\", \"lightpink\").attr(\"width\", 150).attr(\"height\", 150);\n",
        "        d3.select(\".rectangle-text\").style(\"fill\", \"black\").style(\"font-size\", \"20px\");\n",
        "\n",
        "        d3.select(\"#triangle\").style(\"fill\", \"lightgreen\").attr(\"points\", \"370,60 450,220 290,220\");\n",
        "        d3.select(\".triangle-text\").style(\"fill\", \"black\").style(\"font-size\", \"20px\");\n",
        "    </script>\n",
        "</body>\n",
        "</html>\n"
      ],
      "metadata": {
        "colab": {
          "base_uri": "https://localhost:8080/",
          "height": 370
        },
        "id": "biO41qAMTfyO",
        "outputId": "c6a65a50-a359-4674-e659-6b57a090bbac"
      },
      "execution_count": 1,
      "outputs": [
        {
          "output_type": "display_data",
          "data": {
            "text/plain": [
              "<IPython.core.display.HTML object>"
            ],
            "text/html": [
              "\n",
              "<!DOCTYPE html>\n",
              "<html lang=\"en\">\n",
              "<head>\n",
              "    <meta charset=\"UTF-8\">\n",
              "    <meta name=\"viewport\" content=\"width=device-width, initial-scale=1.0\">\n",
              "    <title>SVG Shapes</title>\n",
              "    <script src=\"https://d3js.org/d3.v7.min.js\"></script>\n",
              "    <style>\n",
              "        svg {\n",
              "            width: 500px;\n",
              "            height: 300px;\n",
              "            border: 1px solid #ccc;\n",
              "        }\n",
              "        #circle {\n",
              "            fill: yellow;\n",
              "        }\n",
              "        #rectangle {\n",
              "            fill: lightblue;\n",
              "        }\n",
              "        #triangle {\n",
              "            fill: lightgreen;\n",
              "        }\n",
              "        .circle-text {\n",
              "            fill: black;\n",
              "            font-family: Arial, sans-serif;\n",
              "            font-size: 16px;\n",
              "            font-weight: bold;\n",
              "        }\n",
              "        .rectangle-text {\n",
              "            fill: black;\n",
              "            font-family: Arial, sans-serif;\n",
              "            font-size: 16px;\n",
              "            font-weight: bold;\n",
              "        }\n",
              "        .triangle-text {\n",
              "            fill: black;\n",
              "            font-family: Arial, sans-serif;\n",
              "            font-size: 16px;\n",
              "            font-weight: bold;\n",
              "        }\n",
              "    </style>\n",
              "</head>\n",
              "<body>\n",
              "    <h2>Modifying SVG in D3</h2>\n",
              "    <svg viewBox=\"0 0 500 300\">\n",
              "        <circle id=\"circle\" cx=\"80\" cy=\"100\" r=\"60\" />\n",
              "        <text class=\"circle-text\" x=\"80\" y=\"100\" text-anchor=\"middle\" dominant-baseline=\"central\">Circle</text>\n",
              "\n",
              "        <rect id=\"rectangle\" x=\"200\" y=\"50\" width=\"120\" height=\"120\" />\n",
              "        <text class=\"rectangle-text\" x=\"260\" y=\"110\" text-anchor=\"middle\" dominant-baseline=\"central\">Rectangle</text>\n",
              "\n",
              "        <polygon id=\"triangle\" points=\"380,50 440,200 300,200\" />\n",
              "        <text class=\"triangle-text\" x=\"360\" y=\"130\" text-anchor=\"middle\" dominant-baseline=\"central\">Triangle</text>\n",
              "    </svg>\n",
              "\n",
              "    <script>\n",
              "        d3.select(\"#circle\").style(\"fill\", \"orange\").attr(\"r\", 80);\n",
              "        d3.select(\".circle-text\").style(\"fill\", \"black\").style(\"font-size\", \"20px\");\n",
              "\n",
              "        d3.select(\"#rectangle\").style(\"fill\", \"lightpink\").attr(\"width\", 150).attr(\"height\", 150);\n",
              "        d3.select(\".rectangle-text\").style(\"fill\", \"black\").style(\"font-size\", \"20px\");\n",
              "\n",
              "        d3.select(\"#triangle\").style(\"fill\", \"lightgreen\").attr(\"points\", \"370,60 450,220 290,220\");\n",
              "        d3.select(\".triangle-text\").style(\"fill\", \"black\").style(\"font-size\", \"20px\");\n",
              "    </script>\n",
              "</body>\n",
              "</html>\n"
            ]
          },
          "metadata": {}
        }
      ]
    },
    {
      "cell_type": "markdown",
      "source": [
        "## **SVG Transformation**"
      ],
      "metadata": {
        "id": "tlmAE5nHhZpD"
      }
    },
    {
      "cell_type": "markdown",
      "source": [
        "SVG provides options to transform a single SVG shape element or group of SVG elements. SVG transform supports **Translate, Scale, Rotate and Skew**.\n",
        "SVG introduces a new attribute, transform to support transformation."
      ],
      "metadata": {
        "id": "MUG9S8Y1bm39"
      }
    },
    {
      "cell_type": "code",
      "source": [
        "%%html\n",
        "<html>\n",
        "   <head>\n",
        "      <script type = \"text/javascript\" src = \"https://d3js.org/d3.v4.min.js\"></script>\n",
        "   </head>\n",
        "\n",
        "   <body>\n",
        "      <svg width = \"300\" height = \"300\">\n",
        "         <rect x = \"50\"\n",
        "            y = \"50\"\n",
        "            width = \"60\"\n",
        "            height = \"60\"\n",
        "            fill = \"purple\"\n",
        "            transform = \"translate(90 90) rotate(45)\">\n",
        "         </rect>\n",
        "      </svg>\n",
        "   </body>\n",
        "</html>"
      ],
      "metadata": {
        "colab": {
          "base_uri": "https://localhost:8080/",
          "height": 321
        },
        "id": "xleF3e9acERO",
        "outputId": "3ce70a0d-3dd9-4127-953d-405e735d5a81"
      },
      "execution_count": 5,
      "outputs": [
        {
          "output_type": "display_data",
          "data": {
            "text/plain": [
              "<IPython.core.display.HTML object>"
            ],
            "text/html": [
              "<html>\n",
              "   <head>\n",
              "      <script type = \"text/javascript\" src = \"https://d3js.org/d3.v4.min.js\"></script>\n",
              "   </head>\n",
              "\n",
              "   <body>\n",
              "      <svg width = \"300\" height = \"300\">\n",
              "         <rect x = \"50\"\n",
              "            y = \"50\"\n",
              "            width = \"60\"\n",
              "            height = \"60\"\n",
              "            fill = \"purple\"\n",
              "            transform = \"translate(90 90) rotate(45)\">\n",
              "         </rect>\n",
              "      </svg>\n",
              "   </body>\n",
              "</html>\n"
            ]
          },
          "metadata": {}
        }
      ]
    },
    {
      "cell_type": "markdown",
      "source": [
        "## **D3.js Animation**\n",
        "\n",
        "D3.js supports animation through transition. We can do animation with proper use of transition. Transitions are a limited form of Key Frame Animation with only two key frames – start and end. The starting key frame is typically the current state of the DOM, and the ending key frame is a set of attributes, styles and other properties you specify."
      ],
      "metadata": {
        "id": "7WdnjwRZhtVR"
      }
    },
    {
      "cell_type": "code",
      "source": [
        "%%html\n",
        "<!DOCTYPE html>\n",
        "<html lang=\"en\">\n",
        "<head>\n",
        "    <meta charset=\"UTF-8\">\n",
        "    <meta name=\"viewport\" content=\"width=device-width, initial-scale=1.0\">\n",
        "    <title>D3.js Animation with Color</title>\n",
        "    <script src=\"https://d3js.org/d3.v4.min.js\"></script>\n",
        "\n",
        "</head>\n",
        "<body>\n",
        "    <h1>hello</h1>\n",
        "\n",
        "    <script>\n",
        "        d3.selectAll(\"h1\").transition()\n",
        "            .style(\"background-color\", \"red\")\n",
        "            .delay(1500)\n",
        "            .duration(20);\n",
        "    </script>\n",
        "</body>\n",
        "</html>"
      ],
      "metadata": {
        "id": "MN003ybChIpA",
        "colab": {
          "base_uri": "https://localhost:8080/",
          "height": 74
        },
        "outputId": "71593eee-a3e1-48b6-b394-c0b49bb27d0a"
      },
      "execution_count": 10,
      "outputs": [
        {
          "output_type": "display_data",
          "data": {
            "text/plain": [
              "<IPython.core.display.HTML object>"
            ],
            "text/html": [
              "<!DOCTYPE html>\n",
              "<html lang=\"en\">\n",
              "<head>\n",
              "    <meta charset=\"UTF-8\">\n",
              "    <meta name=\"viewport\" content=\"width=device-width, initial-scale=1.0\">\n",
              "    <title>D3.js Animation with Color</title>\n",
              "    <script src=\"https://d3js.org/d3.v4.min.js\"></script>\n",
              "\n",
              "</head>\n",
              "<body>\n",
              "    <h1>hello</h1>\n",
              "\n",
              "    <script>\n",
              "        d3.selectAll(\"h1\").transition()\n",
              "            .style(\"background-color\", \"red\")\n",
              "            .delay(1500)\n",
              "            .duration(20);\n",
              "    </script>\n",
              "</body>\n",
              "</html>\n"
            ]
          },
          "metadata": {}
        }
      ]
    }
  ]
}